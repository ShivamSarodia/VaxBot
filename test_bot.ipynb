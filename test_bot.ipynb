{
 "cells": [
  {
   "cell_type": "code",
   "execution_count": 2,
   "metadata": {
    "collapsed": false
   },
   "outputs": [],
   "source": [
    "from vax_game import *\n",
    "from bot import *\n",
    "import numpy as np\n",
    "import scipy.stats\n",
    "import time"
   ]
  },
  {
   "cell_type": "code",
   "execution_count": 3,
   "metadata": {
    "collapsed": false
   },
   "outputs": [
    {
     "name": "stdout",
     "output_type": "stream",
     "text": [
      "18.97\n",
      "0.247165936164\n",
      "17.479694604873657\n"
     ]
    }
   ],
   "source": [
    "start_time = time.time()\n",
    "\n",
    "runs = np.array(run(RandomBot, 100))\n",
    "print(runs.mean())\n",
    "print(runs.std()/np.sqrt(100))\n",
    "\n",
    "print(time.time() - start_time)"
   ]
  },
  {
   "cell_type": "code",
   "execution_count": 4,
   "metadata": {
    "collapsed": false
   },
   "outputs": [
    {
     "name": "stdout",
     "output_type": "stream",
     "text": [
      "22.71\n",
      "0.435957566742\n",
      "18.59331178665161\n"
     ]
    }
   ],
   "source": [
    "start_time = time.time()\n",
    "\n",
    "runs = np.array(run(DegreeBot, 100))\n",
    "print(runs.mean())\n",
    "print(runs.std()/np.sqrt(100))\n",
    "\n",
    "print(time.time() - start_time)"
   ]
  },
  {
   "cell_type": "code",
   "execution_count": 5,
   "metadata": {
    "collapsed": false
   },
   "outputs": [
    {
     "name": "stdout",
     "output_type": "stream",
     "text": [
      "33.6\n",
      "1.28405607354\n",
      "21.74575138092041\n"
     ]
    }
   ],
   "source": [
    "start_time = time.time()\n",
    "\n",
    "runs = np.array(run(NearbyBot, 100))\n",
    "print(runs.mean())\n",
    "print(runs.std()/np.sqrt(100))\n",
    "\n",
    "print(time.time() - start_time)"
   ]
  },
  {
   "cell_type": "code",
   "execution_count": 8,
   "metadata": {
    "collapsed": false
   },
   "outputs": [
    {
     "name": "stdout",
     "output_type": "stream",
     "text": [
      "45.23\n",
      "1.34162997879\n",
      "44.5\n",
      "49.56461572647095\n"
     ]
    }
   ],
   "source": [
    "start_time = time.time()\n",
    "\n",
    "runs = np.array(run(DistanceBot.params(1.5, 2.5), 100))\n",
    "print(runs.mean())\n",
    "print(runs.std()/np.sqrt(100))\n",
    "\n",
    "print(\"Time: \", time.time() - start_time)"
   ]
  },
  {
   "cell_type": "code",
   "execution_count": 20,
   "metadata": {
    "collapsed": false
   },
   "outputs": [
    {
     "name": "stdout",
     "output_type": "stream",
     "text": [
      "42.02\n",
      "1.13198763244\n",
      "Time:  53.97797727584839\n"
     ]
    }
   ],
   "source": [
    "start_time = time.time()\n",
    "\n",
    "runs2 = np.array(run(DistanceBot.params(2.5, 2.5), 100))\n",
    "print(runs2.mean())\n",
    "print(runs2.std()/np.sqrt(100))\n",
    "\n",
    "print(\"Time: \", time.time() - start_time)"
   ]
  },
  {
   "cell_type": "code",
   "execution_count": 21,
   "metadata": {
    "collapsed": false
   },
   "outputs": [
    {
     "data": {
      "text/plain": [
       "Ttest_indResult(statistic=1.8194952079889735, pvalue=0.070346260644969127)"
      ]
     },
     "execution_count": 21,
     "metadata": {},
     "output_type": "execute_result"
    }
   ],
   "source": [
    "scipy.stats.ttest_ind(runs, runs2)"
   ]
  },
  {
   "cell_type": "code",
   "execution_count": null,
   "metadata": {
    "collapsed": true
   },
   "outputs": [],
   "source": []
  }
 ],
 "metadata": {
  "kernelspec": {
   "display_name": "Python 3",
   "language": "python",
   "name": "python3"
  },
  "language_info": {
   "codemirror_mode": {
    "name": "ipython",
    "version": 3
   },
   "file_extension": ".py",
   "mimetype": "text/x-python",
   "name": "python",
   "nbconvert_exporter": "python",
   "pygments_lexer": "ipython3",
   "version": "3.5.2"
  }
 },
 "nbformat": 4,
 "nbformat_minor": 2
}
