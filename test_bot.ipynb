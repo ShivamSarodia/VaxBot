{
 "cells": [
  {
   "cell_type": "code",
   "execution_count": 4,
   "metadata": {
    "collapsed": false
   },
   "outputs": [],
   "source": [
    "from vax_game import *\n",
    "from bot import *\n",
    "import numpy as np\n",
    "import scipy.stats\n",
    "import time"
   ]
  },
  {
   "cell_type": "code",
   "execution_count": 3,
   "metadata": {
    "collapsed": false
   },
   "outputs": [
    {
     "name": "stdout",
     "output_type": "stream",
     "text": [
      "17.97\n",
      "0.292046229217\n",
      "9.567898988723755\n"
     ]
    }
   ],
   "source": [
    "start_time = time.time()\n",
    "\n",
    "runs = np.array(run(RandomBot, 100))\n",
    "print(runs.mean())\n",
    "print(runs.std()/np.sqrt(100))\n",
    "\n",
    "print(time.time() - start_time)"
   ]
  },
  {
   "cell_type": "code",
   "execution_count": 5,
   "metadata": {
    "collapsed": false
   },
   "outputs": [
    {
     "name": "stdout",
     "output_type": "stream",
     "text": [
      "22.9\n",
      "0.502692749102\n",
      "9.63910961151123\n"
     ]
    }
   ],
   "source": [
    "start_time = time.time()\n",
    "\n",
    "runs = np.array(run(DegreeBot, 100))\n",
    "print(runs.mean())\n",
    "print(runs.std()/np.sqrt(100))\n",
    "\n",
    "print(time.time() - start_time)"
   ]
  },
  {
   "cell_type": "code",
   "execution_count": 16,
   "metadata": {
    "collapsed": false
   },
   "outputs": [
    {
     "name": "stdout",
     "output_type": "stream",
     "text": [
      "37.02\n",
      "0.845101177375\n",
      "9.170629024505615\n"
     ]
    }
   ],
   "source": [
    "start_time = time.time()\n",
    "\n",
    "runs = np.array(run(NearbyBot, 100))\n",
    "print(runs.mean())\n",
    "print(runs.std()/np.sqrt(100))\n",
    "\n",
    "print(time.time() - start_time)"
   ]
  },
  {
   "cell_type": "code",
   "execution_count": 11,
   "metadata": {
    "collapsed": false
   },
   "outputs": [
    {
     "name": "stdout",
     "output_type": "stream",
     "text": [
      "42.23\n",
      "0.550064541668\n",
      "Time:  19.85509443283081\n"
     ]
    }
   ],
   "source": [
    "start_time = time.time()\n",
    "\n",
    "db_runs = np.array(run(DistanceBot.params(1, 2.2), 100))\n",
    "print(db_runs.mean())\n",
    "print(db_runs.std()/np.sqrt(100))\n",
    "\n",
    "print(\"Time: \", time.time() - start_time)"
   ]
  },
  {
   "cell_type": "code",
   "execution_count": 17,
   "metadata": {
    "collapsed": false
   },
   "outputs": [
    {
     "data": {
      "text/plain": [
       "Ttest_indResult(statistic=-5.1409644344894145, pvalue=6.5389822523320566e-07)"
      ]
     },
     "execution_count": 17,
     "metadata": {},
     "output_type": "execute_result"
    }
   ],
   "source": [
    "scipy.stats.ttest_ind(runs, db_runs)"
   ]
  },
  {
   "cell_type": "code",
   "execution_count": null,
   "metadata": {
    "collapsed": true
   },
   "outputs": [],
   "source": []
  }
 ],
 "metadata": {
  "kernelspec": {
   "display_name": "Python 3",
   "language": "python",
   "name": "python3"
  },
  "language_info": {
   "codemirror_mode": {
    "name": "ipython",
    "version": 3
   },
   "file_extension": ".py",
   "mimetype": "text/x-python",
   "name": "python",
   "nbconvert_exporter": "python",
   "pygments_lexer": "ipython3",
   "version": "3.5.2"
  }
 },
 "nbformat": 4,
 "nbformat_minor": 2
}
