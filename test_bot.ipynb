{
 "cells": [
  {
   "cell_type": "code",
   "execution_count": 1,
   "metadata": {
    "collapsed": false
   },
   "outputs": [],
   "source": [
    "from vax_game import *\n",
    "from bot import *\n",
    "import numpy as np\n",
    "import time"
   ]
  },
  {
   "cell_type": "code",
   "execution_count": null,
   "metadata": {
    "collapsed": false,
    "scrolled": false
   },
   "outputs": [],
   "source": [
    "# game = GameState.easy_game()\n",
    "# while game.stage != game.DONE:\n",
    "#     game.display()\n",
    "#     i = input(\"Vertex: \")\n",
    "#     game.click(game.graph.vertex(i))\n",
    "\n",
    "# print(\"Game over! Final infected: \", game.num_infected)"
   ]
  },
  {
   "cell_type": "code",
   "execution_count": 5,
   "metadata": {
    "collapsed": false
   },
   "outputs": [
    {
     "name": "stdout",
     "output_type": "stream",
     "text": [
      "18.72\n",
      "0.396252444787\n",
      "8.443538188934326\n"
     ]
    }
   ],
   "source": [
    "start_time = time.time()\n",
    "\n",
    "runs = np.array(run(RandomBot, 100))\n",
    "print(runs.mean())\n",
    "print(runs.std()/np.sqrt(100))\n",
    "\n",
    "print(time.time() - start_time)"
   ]
  },
  {
   "cell_type": "code",
   "execution_count": 6,
   "metadata": {
    "collapsed": false
   },
   "outputs": [
    {
     "name": "stdout",
     "output_type": "stream",
     "text": [
      "23.21\n",
      "0.532220818834\n",
      "9.12195611000061\n"
     ]
    }
   ],
   "source": [
    "start_time = time.time()\n",
    "\n",
    "runs = np.array(run(DegreeBot, 100))\n",
    "print(runs.mean())\n",
    "print(runs.std()/np.sqrt(100))\n",
    "\n",
    "print(time.time() - start_time)"
   ]
  },
  {
   "cell_type": "code",
   "execution_count": 4,
   "metadata": {
    "collapsed": false
   },
   "outputs": [
    {
     "name": "stdout",
     "output_type": "stream",
     "text": [
      "38.63\n",
      "0.848958774029\n",
      "8.714363813400269\n"
     ]
    }
   ],
   "source": [
    "start_time = time.time()\n",
    "\n",
    "runs = np.array(run(NearbyBot, 100))\n",
    "print(runs.mean())\n",
    "print(runs.std()/np.sqrt(100))\n",
    "\n",
    "print(time.time() - start_time)"
   ]
  },
  {
   "cell_type": "code",
   "execution_count": null,
   "metadata": {
    "collapsed": true
   },
   "outputs": [],
   "source": []
  }
 ],
 "metadata": {
  "kernelspec": {
   "display_name": "Python 3",
   "language": "python",
   "name": "python3"
  },
  "language_info": {
   "codemirror_mode": {
    "name": "ipython",
    "version": 3
   },
   "file_extension": ".py",
   "mimetype": "text/x-python",
   "name": "python",
   "nbconvert_exporter": "python",
   "pygments_lexer": "ipython3",
   "version": "3.5.2"
  }
 },
 "nbformat": 4,
 "nbformat_minor": 2
}
