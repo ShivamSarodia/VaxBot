{
 "cells": [
  {
   "cell_type": "code",
   "execution_count": 1,
   "metadata": {
    "collapsed": false
   },
   "outputs": [],
   "source": [
    "%matplotlib notebook\n",
    "\n",
    "import matplotlib.pyplot as plt\n",
    "import numpy as np\n",
    "import scipy.stats\n",
    "import time\n",
    "\n",
    "from vax_game import *\n",
    "from bot import *"
   ]
  },
  {
   "cell_type": "code",
   "execution_count": 2,
   "metadata": {
    "collapsed": false
   },
   "outputs": [
    {
     "name": "stdout",
     "output_type": "stream",
     "text": [
      "Mean: 18.77\n",
      "StdErr: 0.452516298049\n",
      "Time:  0.19471311569213867\n"
     ]
    },
    {
     "data": {
      "text/plain": [
       "array([16, 15, 17, 21, 18, 17, 18, 19, 15, 17, 18, 23, 21, 17, 18, 23, 26,\n",
       "       15, 21, 19, 17, 25, 20, 19, 17, 17, 19, 16, 16, 14, 16, 18, 14, 16,\n",
       "       22, 17, 21, 16, 22, 18, 21, 15, 16, 18, 21, 23, 14, 18, 15, 20, 18,\n",
       "       22, 16, 25, 19, 15, 15, 21, 43, 21, 22, 23, 16, 15, 22, 32, 18, 26,\n",
       "       17, 13, 39, 15, 19, 14, 15, 18, 16, 17, 17, 22, 18, 17, 19, 18, 13,\n",
       "       19, 13, 17, 21, 16, 19, 18, 19, 16, 16, 19, 20, 21, 18, 14])"
      ]
     },
     "execution_count": 2,
     "metadata": {},
     "output_type": "execute_result"
    }
   ],
   "source": [
    "run(RandomBot, 100, show_stats=True)"
   ]
  },
  {
   "cell_type": "code",
   "execution_count": 3,
   "metadata": {
    "collapsed": false
   },
   "outputs": [
    {
     "name": "stdout",
     "output_type": "stream",
     "text": [
      "Mean: 23.26\n",
      "StdErr: 0.536026118767\n",
      "Time:  0.20995593070983887\n"
     ]
    },
    {
     "data": {
      "text/plain": [
       "array([29, 34, 15, 23, 20, 20, 24, 26, 22, 32, 22, 21, 20, 33, 20, 34, 22,\n",
       "       18, 24, 23, 27, 23, 18, 20, 20, 22, 24, 18, 15, 32, 19, 28, 25, 34,\n",
       "       28, 37, 25, 20, 16, 20, 21, 21, 32, 23, 23, 17, 24, 15, 29, 21, 19,\n",
       "       35, 31, 24, 15, 19, 26, 24, 19, 21, 13, 28, 25, 19, 22, 20, 22, 26,\n",
       "       20, 18, 26, 21, 32, 25, 21, 25, 21, 22, 27, 20, 42, 29, 20, 21, 24,\n",
       "       18, 24, 26, 25, 20, 20, 17, 26, 32, 17, 20, 18, 19, 20, 23])"
      ]
     },
     "execution_count": 3,
     "metadata": {},
     "output_type": "execute_result"
    }
   ],
   "source": [
    "run(DegreeBot, 100, show_stats=True)"
   ]
  },
  {
   "cell_type": "code",
   "execution_count": 4,
   "metadata": {
    "collapsed": false
   },
   "outputs": [
    {
     "name": "stdout",
     "output_type": "stream",
     "text": [
      "Mean: 37.49\n",
      "StdErr: 0.828310931957\n",
      "Time:  0.22906804084777832\n"
     ]
    },
    {
     "data": {
      "text/plain": [
       "array([42, 41, 44, 28, 45, 41, 43, 46, 39, 39, 43, 40, 24, 45, 42, 46, 28,\n",
       "       31, 17, 32, 34, 25, 32, 40, 47, 41, 18, 32, 47, 39, 35, 27, 27, 42,\n",
       "       47, 47, 47, 33, 47, 23, 46, 38, 43, 26, 46, 35, 18, 47, 40, 47, 46,\n",
       "       44, 43, 47, 37, 40, 27, 48, 40, 45, 47, 43, 40, 39, 38, 46, 43, 27,\n",
       "       22, 42, 37, 29, 30, 45, 47, 27, 39, 31, 45, 29, 35, 29, 48, 32, 29,\n",
       "       35, 39, 45, 41, 32, 45, 31, 38, 27, 46, 23, 46, 22, 27, 44])"
      ]
     },
     "execution_count": 4,
     "metadata": {},
     "output_type": "execute_result"
    }
   ],
   "source": [
    "run(NearbyBot, 100, show_stats=True)"
   ]
  },
  {
   "cell_type": "code",
   "execution_count": 3,
   "metadata": {
    "collapsed": false
   },
   "outputs": [
    {
     "name": "stdout",
     "output_type": "stream",
     "text": [
      "Mean: 42.67\n",
      "StdErr: 0.520010576816\n",
      "Time:  1.1781229972839355\n"
     ]
    },
    {
     "data": {
      "text/plain": [
       "array([42, 44, 44, 46, 48, 41, 39, 45, 41, 41, 47, 46, 43, 47, 18, 41, 36,\n",
       "       44, 45, 45, 34, 39, 47, 45, 45, 45, 46, 48, 45, 43, 35, 45, 45, 44,\n",
       "       43, 43, 47, 25, 44, 43, 42, 38, 48, 42, 44, 43, 34, 44, 45, 48, 44,\n",
       "       33, 46, 45, 42, 46, 47, 46, 45, 36, 40, 48, 37, 41, 46, 46, 47, 39,\n",
       "       47, 39, 39, 45, 47, 46, 29, 45, 42, 45, 46, 42, 45, 40, 36, 24, 46,\n",
       "       46, 45, 46, 46, 48, 43, 47, 44, 46, 43, 44, 43, 37, 45, 45])"
      ]
     },
     "execution_count": 3,
     "metadata": {},
     "output_type": "execute_result"
    }
   ],
   "source": [
    "run(DistanceBot.params(1, 2.2), 100, show_stats=True)"
   ]
  },
  {
   "cell_type": "code",
   "execution_count": 9,
   "metadata": {
    "collapsed": false
   },
   "outputs": [
    {
     "data": {
      "text/plain": [
       "Ttest_indResult(statistic=0.67277016185829253, pvalue=0.50113240547211002)"
      ]
     },
     "execution_count": 9,
     "metadata": {},
     "output_type": "execute_result"
    }
   ],
   "source": [
    "r1 = run(DistanceBot.params(1.1, 2.0), 2000)\n",
    "r2 = run(DistanceBot.params(1.1, 1.8), 2000)\n",
    "scipy.stats.ttest_ind(r2, r1)"
   ]
  }
 ],
 "metadata": {
  "kernelspec": {
   "display_name": "Python 3",
   "language": "python",
   "name": "python3"
  },
  "language_info": {
   "codemirror_mode": {
    "name": "ipython",
    "version": 3
   },
   "file_extension": ".py",
   "mimetype": "text/x-python",
   "name": "python",
   "nbconvert_exporter": "python",
   "pygments_lexer": "ipython3",
   "version": "3.5.1"
  }
 },
 "nbformat": 4,
 "nbformat_minor": 2
}
