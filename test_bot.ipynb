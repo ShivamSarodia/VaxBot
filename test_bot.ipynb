{
 "cells": [
  {
   "cell_type": "code",
   "execution_count": 1,
   "metadata": {
    "collapsed": false
   },
   "outputs": [],
   "source": [
    "%matplotlib notebook\n",
    "\n",
    "import matplotlib.pyplot as plt\n",
    "import numpy as np\n",
    "import scipy.stats\n",
    "import time\n",
    "\n",
    "from vax_game import *\n",
    "from bot import *"
   ]
  },
  {
   "cell_type": "code",
   "execution_count": 16,
   "metadata": {
    "collapsed": false
   },
   "outputs": [
    {
     "name": "stdout",
     "output_type": "stream",
     "text": [
      "Mean: 18.49\n",
      "Median: 18.0\n",
      "StdErr: 0.326035274165\n",
      "Time:  0.18859195709228516\n"
     ]
    },
    {
     "data": {
      "text/plain": [
       "array([21, 22, 15, 19, 22, 17, 20, 14, 21, 28, 20, 18, 14, 22, 26, 19, 21,\n",
       "       16, 16, 18, 18, 16, 26, 24, 18, 16, 16, 18, 19, 29, 21, 17, 26, 15,\n",
       "       21, 18, 20, 16, 14, 18, 16, 20, 17, 20, 19, 22, 16, 18, 19, 16, 14,\n",
       "       16, 19, 22, 18, 20, 26, 14, 20, 18, 18, 18, 17, 18, 21, 17, 19, 18,\n",
       "       16, 16, 17, 19, 16, 15, 15, 17, 20, 15, 15, 16, 13, 21, 18, 25, 17,\n",
       "       17, 26, 15, 18, 16, 19, 15, 16, 16, 19, 18, 19, 14, 20, 19])"
      ]
     },
     "execution_count": 16,
     "metadata": {},
     "output_type": "execute_result"
    }
   ],
   "source": [
    "run(RandomBot, 100, show_stats=True)"
   ]
  },
  {
   "cell_type": "code",
   "execution_count": 15,
   "metadata": {
    "collapsed": false
   },
   "outputs": [
    {
     "name": "stdout",
     "output_type": "stream",
     "text": [
      "Mean: 22.91\n",
      "Median: 21.0\n",
      "StdErr: 0.502413176579\n",
      "Time:  0.19949698448181152\n"
     ]
    },
    {
     "data": {
      "text/plain": [
       "array([24, 20, 29, 20, 27, 17, 20, 34, 17, 18, 30, 21, 21, 23, 20, 17, 28,\n",
       "       25, 21, 23, 26, 18, 18, 23, 17, 30, 17, 25, 28, 23, 17, 20, 20, 24,\n",
       "       25, 20, 27, 20, 20, 18, 22, 22, 19, 14, 20, 19, 36, 23, 25, 19, 20,\n",
       "       29, 26, 31, 29, 20, 24, 45, 26, 19, 26, 34, 20, 21, 21, 18, 14, 20,\n",
       "       28, 22, 21, 27, 21, 19, 19, 26, 19, 21, 25, 21, 23, 20, 20, 27, 30,\n",
       "       23, 18, 21, 21, 23, 18, 26, 35, 20, 23, 26, 20, 31, 21, 23])"
      ]
     },
     "execution_count": 15,
     "metadata": {},
     "output_type": "execute_result"
    }
   ],
   "source": [
    "run(DegreeBot, 100, show_stats=True)"
   ]
  },
  {
   "cell_type": "code",
   "execution_count": 14,
   "metadata": {
    "collapsed": false
   },
   "outputs": [
    {
     "name": "stdout",
     "output_type": "stream",
     "text": [
      "Mean: 39.03\n",
      "Median: 42.0\n",
      "StdErr: 0.769214534444\n",
      "Time:  0.203049898147583\n"
     ]
    },
    {
     "data": {
      "text/plain": [
       "array([43, 43, 46, 46, 41, 45, 44, 43, 40, 40, 21, 41, 19, 32, 35, 30, 41,\n",
       "       40, 32, 46, 37, 40, 39, 47, 32, 31, 45, 45, 37, 46, 44, 27, 37, 45,\n",
       "       19, 47, 27, 36, 35, 47, 27, 28, 46, 25, 46, 43, 44, 22, 38, 41, 37,\n",
       "       36, 47, 38, 42, 29, 46, 43, 42, 44, 43, 45, 47, 35, 28, 46, 46, 39,\n",
       "       48, 32, 43, 42, 30, 44, 47, 34, 44, 45, 40, 43, 21, 41, 45, 48, 49,\n",
       "       47, 45, 43, 47, 21, 43, 40, 43, 28, 46, 44, 29, 26, 39, 42])"
      ]
     },
     "execution_count": 14,
     "metadata": {},
     "output_type": "execute_result"
    }
   ],
   "source": [
    "run(NearbyBot, 100, show_stats=True)"
   ]
  },
  {
   "cell_type": "code",
   "execution_count": 5,
   "metadata": {
    "collapsed": false
   },
   "outputs": [
    {
     "name": "stdout",
     "output_type": "stream",
     "text": [
      "Mean: 43.26\n",
      "Median: 45.0\n",
      "StdErr: 0.435343542504\n",
      "Time:  1.059798002243042\n"
     ]
    },
    {
     "data": {
      "text/plain": [
       "array([46, 44, 48, 45, 45, 42, 29, 37, 46, 45, 46, 46, 47, 46, 47, 45, 44,\n",
       "       34, 46, 42, 43, 42, 36, 45, 41, 46, 47, 45, 33, 43, 46, 47, 49, 36,\n",
       "       46, 47, 43, 42, 46, 43, 43, 45, 46, 47, 35, 46, 46, 48, 45, 45, 47,\n",
       "       48, 42, 45, 44, 32, 43, 43, 37, 46, 47, 44, 30, 44, 43, 44, 47, 43,\n",
       "       46, 29, 46, 45, 43, 46, 40, 46, 35, 44, 46, 45, 37, 39, 38, 47, 44,\n",
       "       47, 46, 42, 41, 43, 48, 45, 45, 43, 41, 46, 37, 47, 47, 41])"
      ]
     },
     "execution_count": 5,
     "metadata": {},
     "output_type": "execute_result"
    }
   ],
   "source": [
    "run(DistanceBot.params(1, 2.2), 100, show_stats=True)"
   ]
  },
  {
   "cell_type": "code",
   "execution_count": 11,
   "metadata": {
    "collapsed": false
   },
   "outputs": [
    {
     "name": "stdout",
     "output_type": "stream",
     "text": [
      "Mean: 42.99\n",
      "Median: 44.0\n",
      "StdErr: 0.395599544995\n",
      "Time:  1.5756118297576904\n"
     ]
    },
    {
     "data": {
      "text/plain": [
       "array([43, 36, 43, 46, 34, 43, 46, 45, 43, 46, 46, 43, 46, 45, 45, 42, 47,\n",
       "       45, 45, 46, 44, 43, 40, 46, 45, 44, 47, 48, 45, 43, 42, 45, 47, 41,\n",
       "       45, 47, 45, 47, 47, 45, 43, 45, 40, 44, 39, 46, 43, 37, 45, 47, 34,\n",
       "       39, 43, 42, 46, 32, 40, 44, 45, 46, 45, 43, 33, 47, 44, 41, 45, 40,\n",
       "       45, 47, 37, 47, 46, 32, 46, 29, 42, 47, 44, 43, 45, 44, 40, 44, 39,\n",
       "       39, 39, 46, 32, 43, 46, 42, 47, 45, 37, 43, 45, 46, 43, 40])"
      ]
     },
     "execution_count": 11,
     "metadata": {},
     "output_type": "execute_result"
    }
   ],
   "source": [
    "run(PathBot, 100, show_stats=True)"
   ]
  },
  {
   "cell_type": "code",
   "execution_count": 13,
   "metadata": {
    "collapsed": false
   },
   "outputs": [
    {
     "data": {
      "text/plain": [
       "Ttest_indResult(statistic=-0.055527235422638078, pvalue=0.95572120726679044)"
      ]
     },
     "execution_count": 13,
     "metadata": {},
     "output_type": "execute_result"
    }
   ],
   "source": [
    "r1 = run(DistanceBot.params(1.1, 2.0), 2000)\n",
    "r2 = run(DistanceBot.params(1.1, 1.8), 2000)\n",
    "scipy.stats.ttest_ind(r2, r1)"
   ]
  }
 ],
 "metadata": {
  "kernelspec": {
   "display_name": "Python 3",
   "language": "python",
   "name": "python3"
  },
  "language_info": {
   "codemirror_mode": {
    "name": "ipython",
    "version": 3
   },
   "file_extension": ".py",
   "mimetype": "text/x-python",
   "name": "python",
   "nbconvert_exporter": "python",
   "pygments_lexer": "ipython3",
   "version": "3.5.1"
  }
 },
 "nbformat": 4,
 "nbformat_minor": 2
}
